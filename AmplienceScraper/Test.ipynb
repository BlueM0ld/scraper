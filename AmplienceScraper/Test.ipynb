{
 "cells": [
  {
   "cell_type": "code",
   "execution_count": 2,
   "id": "debda04d",
   "metadata": {},
   "outputs": [
    {
     "name": "stdout",
     "output_type": "stream",
     "text": [
      "Collecting bs2json\n",
      "  Downloading bs2json-0.1.2-py3-none-any.whl (6.6 kB)\n",
      "Requirement already satisfied: bs4>=0.0.1 in /Users/lucsnype/opt/anaconda3/lib/python3.9/site-packages (from bs2json) (0.0.1)\n",
      "Requirement already satisfied: beautifulsoup4 in /Users/lucsnype/opt/anaconda3/lib/python3.9/site-packages (from bs4>=0.0.1->bs2json) (4.11.1)\n",
      "Requirement already satisfied: soupsieve>1.2 in /Users/lucsnype/opt/anaconda3/lib/python3.9/site-packages (from beautifulsoup4->bs4>=0.0.1->bs2json) (2.3.1)\n",
      "Installing collected packages: bs2json\n",
      "Successfully installed bs2json-0.1.2\n",
      "Note: you may need to restart the kernel to use updated packages.\n"
     ]
    }
   ],
   "source": [
    "pip install -U bs2json"
   ]
  },
  {
   "cell_type": "code",
   "execution_count": 3,
   "id": "67486a45",
   "metadata": {},
   "outputs": [
    {
     "name": "stdout",
     "output_type": "stream",
     "text": [
      "{'html': {'body': {'h1': 'My First Heading', 'p': 'My first paragraph.'},\n",
      "          'head': {'title': 'Page Title'}}}\n"
     ]
    }
   ],
   "source": [
    "from bs2json import BS2Json\n",
    "\n",
    "html = '<html><head><title>Page Title</title></head><body><h1>My First Heading</h1><p>My first paragraph.</p></body></html>'\n",
    "bs2json = BS2Json(html)\n",
    "\n",
    "# Convert soup to JSON\n",
    "json_obj = bs2json.convert()\n",
    "\n",
    "# Save JSON to file\n",
    "bs2json.save()\n",
    "\n",
    "# Print prettified output\n",
    "bs2json.prettify()"
   ]
  },
  {
   "cell_type": "code",
   "execution_count": null,
   "id": "9bb8ca84",
   "metadata": {},
   "outputs": [],
   "source": []
  }
 ],
 "metadata": {
  "kernelspec": {
   "display_name": "Python 3 (ipykernel)",
   "language": "python",
   "name": "python3"
  },
  "language_info": {
   "codemirror_mode": {
    "name": "ipython",
    "version": 3
   },
   "file_extension": ".py",
   "mimetype": "text/x-python",
   "name": "python",
   "nbconvert_exporter": "python",
   "pygments_lexer": "ipython3",
   "version": "3.9.12"
  }
 },
 "nbformat": 4,
 "nbformat_minor": 5
}
